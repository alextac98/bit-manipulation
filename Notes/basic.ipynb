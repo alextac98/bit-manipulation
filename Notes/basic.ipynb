{
 "cells": [
  {
   "cell_type": "markdown",
   "metadata": {},
   "source": [
    "# Basic Tips & Tricks\n",
    "\n",
    "## Bitwise Operators\n",
    "| Sign | Operation   |\n",
    "| ---- | ----------- |\n",
    "| &    | AND         |\n",
    "| \\|   | OR          |\n",
    "| ^    | XOR         |\n",
    "| <<   | Left Shift  |\n",
    "| >>   | Right Shift |\n",
    "| ~    | NOT         |"
   ]
  },
  {
   "cell_type": "code",
   "execution_count": 38,
   "metadata": {},
   "outputs": [],
   "source": [
    "a = 0b1010\n",
    "b = 0b0100\n",
    "\n",
    "# AND Example\n",
    "assert a & b == 0b0000\n",
    "\n",
    "# OR Example\n",
    "assert a | b == 0b1110\n",
    "\n",
    "# XOR Example\n",
    "assert a ^ b == 0b1110\n",
    "\n",
    "# Left Shift Example\n",
    "assert a >> 1 == 0b0101\n",
    "assert a >> 2 == 0b0010\n",
    "\n",
    "# Right Shift Example\n",
    "assert a << 1 == 0b10100\n",
    "assert a << 2 == 0b101000\n",
    "\n",
    "# NOT Example (32bit integer)\n",
    "assert ~a == -0b1011\n"
   ]
  },
  {
   "cell_type": "markdown",
   "metadata": {},
   "source": [
    "## Check if an integer is even or odd\n",
    "\n",
    "The expression `n & 1` returns value of `0` if odd or `1` if even."
   ]
  },
  {
   "cell_type": "code",
   "execution_count": 39,
   "metadata": {},
   "outputs": [],
   "source": [
    "even = 0b00010100\n",
    "odd  = 0b00101101\n",
    "\n",
    "def is_odd(num):\n",
    "    return num & 1\n",
    "\n",
    "assert is_odd(even) == 0\n",
    "assert is_odd(odd)  == 1"
   ]
  },
  {
   "cell_type": "markdown",
   "metadata": {},
   "source": [
    "## Detect if two integers have opposite signs or not\n",
    "Since integers store their sign at the front (left) bit, checking if two integers have opposite signs or not is very simple: use XOR! `a ^ b` will be negative if `a` and `b` have opposite signs."
   ]
  },
  {
   "cell_type": "code",
   "execution_count": 40,
   "metadata": {},
   "outputs": [],
   "source": [
    "assert 4 ^ 8 > 0\n",
    "\n",
    "assert 4 ^ -8 < 0"
   ]
  },
  {
   "cell_type": "markdown",
   "metadata": {},
   "source": [
    "## Add 1 to an integer\n",
    "To add 1 to an integer, we can take advantage of multiple operations. We can use `&` to check if we are odd, `<<` to left-shift if we need to go from odd to even, and `|` to increment if even."
   ]
  },
  {
   "cell_type": "code",
   "execution_count": 41,
   "metadata": {},
   "outputs": [],
   "source": [
    "def increment_by_one(num):\n",
    "    if num & 1:\n",
    "        return num << 1\n",
    "    return num | 1\n",
    "\n",
    "assert increment_by_one(4) == 5\n",
    "assert increment_by_one(10) == 11"
   ]
  },
  {
   "cell_type": "markdown",
   "metadata": {},
   "source": [
    "## Swap two numbers without using a third variable\n",
    "You can accomplish swapping two numbers by using the `XOR` operator by the property `x ^ x = 0`. This is extremely useful when trying to save memory."
   ]
  },
  {
   "cell_type": "code",
   "execution_count": 42,
   "metadata": {},
   "outputs": [],
   "source": [
    "x = 4\n",
    "y = 6\n",
    "\n",
    "def swap(a, b):\n",
    "    if a != b:\n",
    "        a = a ^ b\n",
    "        b = a ^ b\n",
    "        a = a ^ b\n",
    "    return (a, b)\n",
    "\n",
    "assert swap(x, y) == (y, x)"
   ]
  }
 ],
 "metadata": {
  "kernelspec": {
   "display_name": "Python 3",
   "language": "python",
   "name": "python3"
  },
  "language_info": {
   "codemirror_mode": {
    "name": "ipython",
    "version": 3
   },
   "file_extension": ".py",
   "mimetype": "text/x-python",
   "name": "python",
   "nbconvert_exporter": "python",
   "pygments_lexer": "ipython3",
   "version": "3.11.3"
  },
  "orig_nbformat": 4
 },
 "nbformat": 4,
 "nbformat_minor": 2
}
