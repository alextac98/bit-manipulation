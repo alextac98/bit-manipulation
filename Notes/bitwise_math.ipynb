{
 "cells": [
  {
   "cell_type": "markdown",
   "metadata": {},
   "source": [
    "# Math Operations with Bit Manipulation"
   ]
  },
  {
   "cell_type": "markdown",
   "metadata": {},
   "source": [
    "## Unset the rightmost set bit of a number\n",
    "The expression `n & (n - 1)` will turn off the right-most bit."
   ]
  },
  {
   "cell_type": "markdown",
   "metadata": {},
   "source": [
    "## Check if a positive integer is a power of 2 without using any branching or looping"
   ]
  },
  {
   "cell_type": "code",
   "execution_count": 3,
   "metadata": {},
   "outputs": [],
   "source": [
    "def is_power_2(n):\n",
    "    return not n & (n - 1)\n",
    "\n",
    "assert is_power_2(1)\n",
    "assert is_power_2(2)\n",
    "assert is_power_2(32)\n",
    "\n",
    "assert not is_power_2(12)"
   ]
  },
  {
   "cell_type": "markdown",
   "metadata": {},
   "source": [
    "## Find the position of the first set bit"
   ]
  },
  {
   "cell_type": "code",
   "execution_count": 10,
   "metadata": {},
   "outputs": [],
   "source": [
    "def first_set_bit(n):\n",
    "    if n & 1:\n",
    "        return 1\n",
    "    n = n ^ (n & (n - 1))\n",
    "\n",
    "    pos = 0\n",
    "    while n:\n",
    "        n = n >> 1\n",
    "        pos += 1\n",
    "    return pos\n",
    "\n",
    "assert first_set_bit(0b01100) == 3\n",
    "assert first_set_bit(0b11000) == 4\n",
    "assert first_set_bit(0b11111) == 1"
   ]
  },
  {
   "cell_type": "markdown",
   "metadata": {},
   "source": [
    "## Find the position of the only set bit in a number"
   ]
  },
  {
   "cell_type": "code",
   "execution_count": 17,
   "metadata": {},
   "outputs": [],
   "source": [
    "def only_set_bit(n):\n",
    "    i = 1\n",
    "    while not n & 1:\n",
    "        n = n >> 1\n",
    "        i+=1\n",
    "    if not n == 1:\n",
    "        # More than one bit is set as 1\n",
    "        return 0\n",
    "    return i\n",
    "\n",
    "assert only_set_bit(0b0100) == 3\n",
    "assert only_set_bit(0b0001) == 1"
   ]
  }
 ],
 "metadata": {
  "kernelspec": {
   "display_name": "venv",
   "language": "python",
   "name": "python3"
  },
  "language_info": {
   "codemirror_mode": {
    "name": "ipython",
    "version": 3
   },
   "file_extension": ".py",
   "mimetype": "text/x-python",
   "name": "python",
   "nbconvert_exporter": "python",
   "pygments_lexer": "ipython3",
   "version": "3.11.3"
  },
  "orig_nbformat": 4
 },
 "nbformat": 4,
 "nbformat_minor": 2
}
