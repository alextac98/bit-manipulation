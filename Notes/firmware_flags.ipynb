{
 "cells": [
  {
   "cell_type": "markdown",
   "metadata": {},
   "source": [
    "# Firmware Flag Operations\n",
    "\n",
    "This is a bunch of examples useful when manipulating flag outputs in firmware."
   ]
  },
  {
   "cell_type": "markdown",
   "metadata": {},
   "source": [
    "## Turn off k'th bit in a number"
   ]
  },
  {
   "cell_type": "code",
   "execution_count": 17,
   "metadata": {},
   "outputs": [],
   "source": [
    "def turn_off_k_bit(n, k):\n",
    "    return n & ~(1 << (k - 1))\n",
    "\n",
    "flags = 0b001000101\n",
    "\n",
    "assert turn_off_k_bit(flags, 3) == 0b001000001"
   ]
  },
  {
   "cell_type": "markdown",
   "metadata": {},
   "source": [
    "# Turn on k'th bit in a number"
   ]
  },
  {
   "cell_type": "code",
   "execution_count": 18,
   "metadata": {},
   "outputs": [],
   "source": [
    "def turn_on_k_bit(n, k):\n",
    "    return n | (1 << (k -1))\n",
    "\n",
    "flags = 0b001000101\n",
    "\n",
    "assert turn_on_k_bit(flags, 4) == 0b001001101"
   ]
  },
  {
   "cell_type": "markdown",
   "metadata": {},
   "source": [
    "# Check value of k'th bit"
   ]
  },
  {
   "cell_type": "code",
   "execution_count": 19,
   "metadata": {},
   "outputs": [],
   "source": [
    "def check_kth_bit(n, k):\n",
    "    return (n >> (k - 1)) & 1\n",
    "\n",
    "flags = 0b0101101\n",
    "\n",
    "assert check_kth_bit(flags, 4)\n",
    "assert not check_kth_bit(flags, 2)"
   ]
  },
  {
   "cell_type": "markdown",
   "metadata": {},
   "source": [
    "# Toggle k'th bit"
   ]
  },
  {
   "cell_type": "code",
   "execution_count": 20,
   "metadata": {},
   "outputs": [],
   "source": [
    "def toggle_kth_bit(n, k):\n",
    "    return n ^ (1 << (k - 1))\n",
    "\n",
    "flags = 0b01101101\n",
    "assert toggle_kth_bit(flags, 3) == 0b01101001\n",
    "assert toggle_kth_bit(flags, 2) == 0b01101111"
   ]
  }
 ],
 "metadata": {
  "kernelspec": {
   "display_name": "venv",
   "language": "python",
   "name": "python3"
  },
  "language_info": {
   "codemirror_mode": {
    "name": "ipython",
    "version": 3
   },
   "file_extension": ".py",
   "mimetype": "text/x-python",
   "name": "python",
   "nbconvert_exporter": "python",
   "pygments_lexer": "ipython3",
   "version": "3.11.3"
  },
  "orig_nbformat": 4
 },
 "nbformat": 4,
 "nbformat_minor": 2
}
