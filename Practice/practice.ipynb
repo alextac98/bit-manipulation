{
 "cells": [
  {
   "cell_type": "markdown",
   "metadata": {},
   "source": [
    "# Practice Questions"
   ]
  },
  {
   "cell_type": "markdown",
   "metadata": {},
   "source": [
    "# Question 1: Find the total number of bits needed to be flipped\n",
    "Find the total number of bits needed to be flipped to convert a given integer to another.\n",
    "For example:\n",
    "```\n",
    "Input:\n",
    " \n",
    "x = 65 (which is 01000001 in binary)\n",
    "y = 80 (which is 01010000 in binary)\n",
    " \n",
    "Output: The total number of bits to be flipped is 2\n",
    "```"
   ]
  },
  {
   "cell_type": "code",
   "execution_count": 2,
   "metadata": {},
   "outputs": [],
   "source": [
    "def bit_flipped(a, b):\n",
    "    n = a ^ b\n",
    "\n",
    "    count = 0\n",
    "    while n:\n",
    "        n = n & (n - 1)     # clear the least significant bit set\n",
    "        count = count + 1\n",
    " \n",
    "    return count\n",
    "\n",
    "assert bit_flipped(65, 80) == 2\n",
    "    "
   ]
  },
  {
   "cell_type": "markdown",
   "metadata": {},
   "source": []
  }
 ],
 "metadata": {
  "kernelspec": {
   "display_name": "venv",
   "language": "python",
   "name": "python3"
  },
  "language_info": {
   "codemirror_mode": {
    "name": "ipython",
    "version": 3
   },
   "file_extension": ".py",
   "mimetype": "text/x-python",
   "name": "python",
   "nbconvert_exporter": "python",
   "pygments_lexer": "ipython3",
   "version": "3.11.3"
  },
  "orig_nbformat": 4
 },
 "nbformat": 4,
 "nbformat_minor": 2
}
